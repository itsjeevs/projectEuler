{
 "cells": [
  {
   "cell_type": "code",
   "execution_count": 153,
   "metadata": {
    "collapsed": false
   },
   "outputs": [],
   "source": [
    "from enum import Enum\n",
    "import sys\n",
    "\n",
    "class Soda:\n",
    "    def __init__(self, name, price):\n",
    "        self.price = price\n",
    "        self.name = name\n",
    "        \n",
    "    def __str__(self):\n",
    "        return self.name\n",
    "\n",
    "class Coin(Enum):\n",
    "    cent = 1\n",
    "    nickel = 5\n",
    "    dime = 10\n",
    "    quarter = 25\n",
    "    def __str__(self):\n",
    "        return name\n",
    "    \n",
    "class WendingMachine:\n",
    "    def __init__(self):\n",
    "        self.soda_inventory = {}\n",
    "        self.coin_inventory = {}\n",
    "        self.accepted_money = 0\n",
    "        self.selected_soda = None\n",
    "        self.incomplete_txn_coins = None\n",
    "    def __str__(self):\n",
    "        items = []\n",
    "        for k,v in self.soda_inventory.iteritems():\n",
    "            items.append(str(v) +\" of \"+k.name+\" left\" )\n",
    "        items.append(\"******************************\")\n",
    "        for k,v in self.coin_inventory.iteritems():\n",
    "            items.append(str(v) +\" \"+k.name+\" left\" )\n",
    "        items.append(\"******************************\")\n",
    "        items.append(\"Soda: \"+self.selected_soda.name if self.selected_soda.name is not None else \"None Selected\")\n",
    "        items.append(\"******************************\")\n",
    "        items.append(\"TXN: \"+ \", \".join([k.name for k in self.incomplete_txn_coins ])if self.incomplete_txn_coins is not None else \"Txn not started\")\n",
    "        items.append(\"******************************\")\n",
    "        items.append(\"Accepted Money: \"+ str(self.accepted_money)+\" cents\")\n",
    "        items.append(\"******************************\")\n",
    "\n",
    "        return \"\\n\".join(items)\n",
    "        \n",
    "    def select_soda_show_price(self, soda):\n",
    "        self.selected_soda = soda\n",
    "        return self.selected_soda.price\n",
    "    \n",
    "    def accept_money(self, coin_list):\n",
    "        if self.incomplete_txn_coins is None:\n",
    "            self.incomplete_txn_coins = coin_list\n",
    "        else:\n",
    "            self.incomplete_txn_coins.extend(coin_list)\n",
    "            \n",
    "        for coin in coin_list:\n",
    "            self.accepted_money += coin.value\n",
    "            self.coin_inventory[coin] =  self.coin_inventory.get(coin,0)+1\n",
    "        \n",
    "        return self.accepted_money >= self.selected_soda.price *100\n",
    "            \n",
    "    \n",
    "    def calculate_return(self):\n",
    "        return_amount = self.accepted_money - self.selected_soda.price*100\n",
    "        temp_return = return_amount\n",
    "\n",
    "        quarters=int(temp_return/Coin.quarter.value)\n",
    "        temp_return = temp_return%Coin.quarter.value\n",
    "\n",
    "        dimes = int(temp_return/Coin.dime.value)\n",
    "        temp_return = temp_return%Coin.dime.value\n",
    "\n",
    "        nickels = int(temp_return/Coin.nickel.value)\n",
    "        cents = temp_return%Coin.nickel.value\n",
    "\n",
    "        return [return_amount, (quarters, dimes, nickels, cents)]\n",
    "    \n",
    "    def return_money(self,coin_count):\n",
    "        quarters,dimes,nickels,cents = coin_count\n",
    "        self.coin_inventory[quarters] -= quarters\n",
    "        self.coin_inventory[dimes] -= dimes\n",
    "        self.coin_inventory[nickels] -= nickels\n",
    "        self.coin_inventory[dimes] -= dimes\n",
    "\n",
    "    def cancel_txn(self):\n",
    "        for i in \n",
    "        \n",
    "    def transaction_complete(self):\n",
    "        self.accepted_money = 0\n",
    "        self.incomplete_txn_coins = None\n",
    "        "
   ]
  },
  {
   "cell_type": "code",
   "execution_count": 154,
   "metadata": {
    "collapsed": false
   },
   "outputs": [
    {
     "name": "stdout",
     "output_type": "stream",
     "text": [
      "False\n",
      "False\n",
      "True\n",
      "135\n",
      "[10.0, (0, 1, 0, 0.0)]\n"
     ]
    }
   ],
   "source": [
    "w = WendingMachine()\n",
    "coke = Soda(\"Coke\",1.25)\n",
    "pepsi = Soda(\"Pepsi\",1.19)\n",
    "md = Soda(\"Mountain Dew\",.99)\n",
    "mp = Soda(\"Mr.Pepper\",1.25)\n",
    "\n",
    "w.soda_inventory = {coke:100, pepsi:100, md:50, mp :75}\n",
    "w.coin_inventory = {Coin.quarter:1000, Coin.dime:1000, Coin.nickel:1000, Coin.cent:10000}\n",
    "w.select_soda_show_price(coke)\n",
    "print w.accept_money([Coin.quarter, Coin.quarter, Coin.quarter])\n",
    "print w.accept_money([Coin.quarter, Coin.dime])\n",
    "print w.accept_money([Coin.quarter])\n",
    "print w.accepted_money\n",
    "print w.calculate_return()"
   ]
  },
  {
   "cell_type": "code",
   "execution_count": 49,
   "metadata": {
    "collapsed": false
   },
   "outputs": [
    {
     "name": "stdout",
     "output_type": "stream",
     "text": [
      "1\n",
      "5\n",
      "10\n",
      "25\n"
     ]
    }
   ],
   "source": [
    "from enum import Enum\n",
    "class Coin(Enum):\n",
    "    quarter = 25\n",
    "    dime = 10\n",
    "    nickel = 5\n",
    "    cent = 1\n",
    "\n",
    "for i in Coin:\n",
    "    print i.value"
   ]
  },
  {
   "cell_type": "code",
   "execution_count": 109,
   "metadata": {
    "collapsed": false
   },
   "outputs": [
    {
     "data": {
      "text/plain": [
       "(24, 2, 0, 4)"
      ]
     },
     "execution_count": 109,
     "metadata": {},
     "output_type": "execute_result"
    }
   ],
   "source": [
    "def calculate_return(return_amount):\n",
    "#         return_amount = self.accepted_money = self.selected_soda.price\n",
    "    temp_return = return_amount\n",
    "\n",
    "    quarters=temp_return/Coin.quarter.value\n",
    "    temp_return = temp_return%Coin.quarter.value\n",
    "\n",
    "    dimes = temp_return/Coin.dime.value\n",
    "    temp_return = temp_return%Coin.dime.value\n",
    "\n",
    "    nickels = temp_return/Coin.nickel.value\n",
    "    cents = temp_return%Coin.nickel.value\n",
    "\n",
    "    return quarters, dimes, nickels, cents\n",
    "\n",
    "calculate_return(624)"
   ]
  },
  {
   "cell_type": "code",
   "execution_count": 108,
   "metadata": {
    "collapsed": false
   },
   "outputs": [
    {
     "data": {
      "text/plain": [
       "True"
      ]
     },
     "execution_count": 108,
     "metadata": {},
     "output_type": "execute_result"
    }
   ],
   "source": [
    "37%25 == 37-(37/25)*25"
   ]
  },
  {
   "cell_type": "code",
   "execution_count": null,
   "metadata": {
    "collapsed": true
   },
   "outputs": [],
   "source": []
  }
 ],
 "metadata": {
  "kernelspec": {
   "display_name": "Python 2",
   "language": "python",
   "name": "python2"
  },
  "language_info": {
   "codemirror_mode": {
    "name": "ipython",
    "version": 2
   },
   "file_extension": ".py",
   "mimetype": "text/x-python",
   "name": "python",
   "nbconvert_exporter": "python",
   "pygments_lexer": "ipython2",
   "version": "2.7.11"
  }
 },
 "nbformat": 4,
 "nbformat_minor": 0
}
