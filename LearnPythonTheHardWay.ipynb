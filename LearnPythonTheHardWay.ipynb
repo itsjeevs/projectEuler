{
 "cells": [
  {
   "cell_type": "markdown",
   "metadata": {},
   "source": [
    "# Learn Python the Hard Way by Zed A. Shaw"
   ]
  },
  {
   "cell_type": "markdown",
   "metadata": {},
   "source": [
    "### Exercise 1"
   ]
  },
  {
   "cell_type": "markdown",
   "metadata": {},
   "source": [
    "#### All about Printing"
   ]
  },
  {
   "cell_type": "code",
   "execution_count": 10,
   "metadata": {
    "collapsed": false
   },
   "outputs": [
    {
     "name": "stdout",
     "output_type": "stream",
     "text": [
      "Hello World\n",
      "I like typing this\n",
      "I'd much rather you 'not'.\n",
      "I \"said\" do not touch this\n",
      "====================\n",
      "First line\n",
      "Next line\n",
      "\twith indentation\n",
      "How old are you?\n",
      "29\n",
      "You're 29 years old\n"
     ]
    }
   ],
   "source": [
    "print 'Hello World'\n",
    "print \"I like typing this\"\n",
    "print \"I'd much rather you 'not'.\"\n",
    "print 'I \"said\" do not touch this'\n",
    "print \"=\"*20\n",
    "print \"First line\\nNext line\\n\\twith indentation\"\n",
    "# With raw input\n",
    "print \"How old are you?\"\n",
    "age = raw_input()\n",
    "print \"You're \"+age+\" years old\"\n"
   ]
  },
  {
   "cell_type": "code",
   "execution_count": 2,
   "metadata": {
    "collapsed": true
   },
   "outputs": [],
   "source": []
  },
  {
   "cell_type": "code",
   "execution_count": null,
   "metadata": {
    "collapsed": true
   },
   "outputs": [],
   "source": []
  }
 ],
 "metadata": {
  "kernelspec": {
   "display_name": "Python 2",
   "language": "python",
   "name": "python2"
  },
  "language_info": {
   "codemirror_mode": {
    "name": "ipython",
    "version": 2
   },
   "file_extension": ".py",
   "mimetype": "text/x-python",
   "name": "python",
   "nbconvert_exporter": "python",
   "pygments_lexer": "ipython2",
   "version": "2.7.10"
  }
 },
 "nbformat": 4,
 "nbformat_minor": 0
}
